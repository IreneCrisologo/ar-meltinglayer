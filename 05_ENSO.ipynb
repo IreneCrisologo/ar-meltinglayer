{
 "cells": [
  {
   "cell_type": "markdown",
   "id": "genuine-juvenile",
   "metadata": {},
   "source": [
    "# El-Nino Southern Oscillation 3.4\n",
    "\n",
    "In this notebook, I used the El-Nino Southern Oscillation 3.4 SST Anomaly from https://psl.noaa.gov/data/timeseries/monthly/NINO34/ to compare to the melting layer time series."
   ]
  },
  {
   "cell_type": "markdown",
   "id": "external-junior",
   "metadata": {},
   "source": [
    "#### Import modules"
   ]
  },
  {
   "cell_type": "code",
   "execution_count": 1,
   "id": "explicit-practice",
   "metadata": {},
   "outputs": [
    {
     "name": "stdout",
     "output_type": "stream",
     "text": [
      "Populating the interactive namespace from numpy and matplotlib\n",
      "\n",
      "## You are using the Python ARM Radar Toolkit (Py-ART), an open source\n",
      "## library for working with weather radar data. Py-ART is partly\n",
      "## supported by the U.S. Department of Energy as part of the Atmospheric\n",
      "## Radiation Measurement (ARM) Climate Research Facility, an Office of\n",
      "## Science user facility.\n",
      "##\n",
      "## If you use this software to prepare a publication, please cite:\n",
      "##\n",
      "##     JJ Helmus and SM Collis, JORS 2016, doi: 10.5334/jors.119\n",
      "\n"
     ]
    },
    {
     "name": "stderr",
     "output_type": "stream",
     "text": [
      "/home/icrisologo/.conda/envs/pyart/lib/python3.7/site-packages/wradlib/io/radolan.py:835: DeprecationWarning: `np.float` is a deprecated alias for the builtin `float`. To silence this warning, use `float` by itself. Doing this will not modify any behavior and is safe. If you specifically wanted the numpy scalar type, use `np.float64` here.\n",
      "Deprecated in NumPy 1.20; for more details and guidance: https://numpy.org/devdocs/release/1.20.0-notes.html#deprecations\n",
      "  'RR': {'add_offset': np.float(0),\n",
      "/home/icrisologo/.conda/envs/pyart/lib/python3.7/site-packages/wradlib/io/radolan.py:842: DeprecationWarning: `np.float` is a deprecated alias for the builtin `float`. To silence this warning, use `float` by itself. Doing this will not modify any behavior and is safe. If you specifically wanted the numpy scalar type, use `np.float64` here.\n",
      "Deprecated in NumPy 1.20; for more details and guidance: https://numpy.org/devdocs/release/1.20.0-notes.html#deprecations\n",
      "  'RA': {'add_offset': np.float(0),\n",
      "/home/icrisologo/.conda/envs/pyart/lib/python3.7/site-packages/wradlib/io/xarray.py:383: DeprecationWarning: `np.int` is a deprecated alias for the builtin `int`. To silence this warning, use `int` by itself. Doing this will not modify any behavior and is safe. When replacing `np.int`, you may wish to use e.g. `np.int64` or `np.int32` to specify the precision. If you wish to review your current use, check the release note link for additional information.\n",
      "Deprecated in NumPy 1.20; for more details and guidance: https://numpy.org/devdocs/release/1.20.0-notes.html#deprecations\n",
      "  global_variables = dict([('volume_number', np.int),\n"
     ]
    }
   ],
   "source": [
    "%pylab inline\n",
    "\n",
    "import pyart\n",
    "import pandas as pd\n",
    "import numpy as np\n",
    "import seaborn as sns\n",
    "\n",
    "import os\n",
    "\n",
    "import datetime as dt\n",
    "import pytz\n",
    "https://psl.noaa.gov/data/timeseries/monthly/NINO34/\n",
    "import sys, os"
   ]
  },
  {
   "cell_type": "markdown",
   "id": "accurate-groove",
   "metadata": {},
   "source": [
    "#### Load data\n",
    "\n",
    "I downloaded the data [here](https://psl.noaa.gov/data/correlation/nina34.data) _(Last accessed: 04/27/2021)_ and saved it to my local directory. There is probably a way to read the data directly from the site into a pandas dataframe, but this is how I did it for now."
   ]
  },
  {
   "cell_type": "code",
   "execution_count": 36,
   "id": "italian-shaft",
   "metadata": {},
   "outputs": [
    {
     "name": "stderr",
     "output_type": "stream",
     "text": [
      "/home/icrisologo/.conda/envs/pyart/lib/python3.7/site-packages/ipykernel/ipkernel.py:287: DeprecationWarning: `should_run_async` will not call `transform_cell` automatically in the future. Please pass the result to `transformed_cell` argument and any exception that happen during thetransform in `preprocessing_exc_tuple` in IPython 7.17 and above.\n",
      "  and should_run_async(code)\n"
     ]
    }
   ],
   "source": [
    "# file path\n",
    "datfile = '/home/icrisologo/Data/nina34.data'"
   ]
  },
  {
   "cell_type": "markdown",
   "id": "swiss-unknown",
   "metadata": {},
   "source": [
    "After investigating the data, I noticed a couple of things. First is that -99.99 are used for the missing values. Second, it is neither tab-separated, fixed-width, nor comma-separated. Instead, the values are separated by two spaces, except when there are missing values.\n",
    "\n",
    "The first two lines of data (years 1948 and 1949) both have missing values anyway, so I skipped reading that. Now, I can simply read the data file using `pd.read_csv`, and just specify the two spaces as the separator. I also skipped reading the first row because it just says the start and end years. I set the index to the 0th column so that the index is the year.\n",
    "\n",
    "I also dropped the last 4 rows because they just contain other info."
   ]
  },
  {
   "cell_type": "code",
   "execution_count": 41,
   "id": "worthy-phase",
   "metadata": {},
   "outputs": [
    {
     "name": "stderr",
     "output_type": "stream",
     "text": [
      "/home/icrisologo/.conda/envs/pyart/lib/python3.7/site-packages/ipykernel/ipkernel.py:287: DeprecationWarning: `should_run_async` will not call `transform_cell` automatically in the future. Please pass the result to `transformed_cell` argument and any exception that happen during thetransform in `preprocessing_exc_tuple` in IPython 7.17 and above.\n",
      "  and should_run_async(code)\n",
      "/home/icrisologo/.conda/envs/pyart/lib/python3.7/site-packages/ipykernel_launcher.py:1: ParserWarning: Falling back to the 'python' engine because the 'c' engine does not support regex separators (separators > 1 char and different from '\\s+' are interpreted as regex); you can avoid this warning by specifying engine='python'.\n",
      "  \"\"\"Entry point for launching an IPython kernel.\n"
     ]
    }
   ],
   "source": [
    "df = pd.read_csv (datfile,sep='  ',skiprows=(3),header=None,index_col=[0])\n",
    "df.drop(df.tail(4).index,inplace=True) # drop last 4 rows (other info)"
   ]
  },
  {
   "cell_type": "code",
   "execution_count": 42,
   "id": "difficult-dancing",
   "metadata": {},
   "outputs": [
    {
     "name": "stderr",
     "output_type": "stream",
     "text": [
      "/home/icrisologo/.conda/envs/pyart/lib/python3.7/site-packages/ipykernel/ipkernel.py:287: DeprecationWarning: `should_run_async` will not call `transform_cell` automatically in the future. Please pass the result to `transformed_cell` argument and any exception that happen during thetransform in `preprocessing_exc_tuple` in IPython 7.17 and above.\n",
      "  and should_run_async(code)\n"
     ]
    },
    {
     "data": {
      "text/html": [
       "<div>\n",
       "<style scoped>\n",
       "    .dataframe tbody tr th:only-of-type {\n",
       "        vertical-align: middle;\n",
       "    }\n",
       "\n",
       "    .dataframe tbody tr th {\n",
       "        vertical-align: top;\n",
       "    }\n",
       "\n",
       "    .dataframe thead th {\n",
       "        text-align: right;\n",
       "    }\n",
       "</style>\n",
       "<table border=\"1\" class=\"dataframe\">\n",
       "  <thead>\n",
       "    <tr style=\"text-align: right;\">\n",
       "      <th></th>\n",
       "      <th>1</th>\n",
       "      <th>2</th>\n",
       "      <th>3</th>\n",
       "      <th>4</th>\n",
       "      <th>5</th>\n",
       "      <th>6</th>\n",
       "      <th>7</th>\n",
       "      <th>8</th>\n",
       "      <th>9</th>\n",
       "      <th>10</th>\n",
       "      <th>11</th>\n",
       "      <th>12</th>\n",
       "    </tr>\n",
       "    <tr>\n",
       "      <th>0</th>\n",
       "      <th></th>\n",
       "      <th></th>\n",
       "      <th></th>\n",
       "      <th></th>\n",
       "      <th></th>\n",
       "      <th></th>\n",
       "      <th></th>\n",
       "      <th></th>\n",
       "      <th></th>\n",
       "      <th></th>\n",
       "      <th></th>\n",
       "      <th></th>\n",
       "    </tr>\n",
       "  </thead>\n",
       "  <tbody>\n",
       "    <tr>\n",
       "      <th>1950</th>\n",
       "      <td>24.55</td>\n",
       "      <td>25.06</td>\n",
       "      <td>25.87</td>\n",
       "      <td>26.28</td>\n",
       "      <td>26.18</td>\n",
       "      <td>26.46</td>\n",
       "      <td>26.29</td>\n",
       "      <td>25.88</td>\n",
       "      <td>25.74</td>\n",
       "      <td>25.69</td>\n",
       "      <td>25.47</td>\n",
       "      <td>25.29</td>\n",
       "    </tr>\n",
       "    <tr>\n",
       "      <th>1951</th>\n",
       "      <td>25.24</td>\n",
       "      <td>25.71</td>\n",
       "      <td>26.90</td>\n",
       "      <td>27.58</td>\n",
       "      <td>27.92</td>\n",
       "      <td>27.73</td>\n",
       "      <td>27.60</td>\n",
       "      <td>27.02</td>\n",
       "      <td>27.23</td>\n",
       "      <td>27.20</td>\n",
       "      <td>27.25</td>\n",
       "      <td>26.91</td>\n",
       "    </tr>\n",
       "    <tr>\n",
       "      <th>1952</th>\n",
       "      <td>26.67</td>\n",
       "      <td>26.74</td>\n",
       "      <td>27.17</td>\n",
       "      <td>27.80</td>\n",
       "      <td>27.79</td>\n",
       "      <td>27.18</td>\n",
       "      <td>26.53</td>\n",
       "      <td>26.30</td>\n",
       "      <td>26.36</td>\n",
       "      <td>26.26</td>\n",
       "      <td>25.92</td>\n",
       "      <td>26.21</td>\n",
       "    </tr>\n",
       "    <tr>\n",
       "      <th>1953</th>\n",
       "      <td>26.74</td>\n",
       "      <td>27.00</td>\n",
       "      <td>27.57</td>\n",
       "      <td>28.04</td>\n",
       "      <td>28.28</td>\n",
       "      <td>28.12</td>\n",
       "      <td>27.43</td>\n",
       "      <td>26.94</td>\n",
       "      <td>27.01</td>\n",
       "      <td>26.87</td>\n",
       "      <td>26.88</td>\n",
       "      <td>27.00</td>\n",
       "    </tr>\n",
       "    <tr>\n",
       "      <th>1954</th>\n",
       "      <td>26.98</td>\n",
       "      <td>27.03</td>\n",
       "      <td>26.90</td>\n",
       "      <td>26.64</td>\n",
       "      <td>27.12</td>\n",
       "      <td>26.80</td>\n",
       "      <td>26.11</td>\n",
       "      <td>25.43</td>\n",
       "      <td>25.12</td>\n",
       "      <td>25.23</td>\n",
       "      <td>25.57</td>\n",
       "      <td>25.26</td>\n",
       "    </tr>\n",
       "    <tr>\n",
       "      <th>...</th>\n",
       "      <td>...</td>\n",
       "      <td>...</td>\n",
       "      <td>...</td>\n",
       "      <td>...</td>\n",
       "      <td>...</td>\n",
       "      <td>...</td>\n",
       "      <td>...</td>\n",
       "      <td>...</td>\n",
       "      <td>...</td>\n",
       "      <td>...</td>\n",
       "      <td>...</td>\n",
       "      <td>...</td>\n",
       "    </tr>\n",
       "    <tr>\n",
       "      <th>2016</th>\n",
       "      <td>29.11</td>\n",
       "      <td>29.01</td>\n",
       "      <td>28.90</td>\n",
       "      <td>28.72</td>\n",
       "      <td>28.23</td>\n",
       "      <td>27.69</td>\n",
       "      <td>26.82</td>\n",
       "      <td>26.28</td>\n",
       "      <td>26.14</td>\n",
       "      <td>25.98</td>\n",
       "      <td>25.94</td>\n",
       "      <td>26.10</td>\n",
       "    </tr>\n",
       "    <tr>\n",
       "      <th>2017</th>\n",
       "      <td>26.12</td>\n",
       "      <td>26.67</td>\n",
       "      <td>27.32</td>\n",
       "      <td>28.03</td>\n",
       "      <td>28.30</td>\n",
       "      <td>28.06</td>\n",
       "      <td>27.54</td>\n",
       "      <td>26.70</td>\n",
       "      <td>26.29</td>\n",
       "      <td>26.15</td>\n",
       "      <td>25.74</td>\n",
       "      <td>25.62</td>\n",
       "    </tr>\n",
       "    <tr>\n",
       "      <th>2018</th>\n",
       "      <td>25.57</td>\n",
       "      <td>25.97</td>\n",
       "      <td>26.48</td>\n",
       "      <td>27.31</td>\n",
       "      <td>27.73</td>\n",
       "      <td>27.77</td>\n",
       "      <td>27.42</td>\n",
       "      <td>26.94</td>\n",
       "      <td>27.19</td>\n",
       "      <td>27.62</td>\n",
       "      <td>27.61</td>\n",
       "      <td>27.49</td>\n",
       "    </tr>\n",
       "    <tr>\n",
       "      <th>2019</th>\n",
       "      <td>27.19</td>\n",
       "      <td>27.46</td>\n",
       "      <td>28.09</td>\n",
       "      <td>28.44</td>\n",
       "      <td>28.48</td>\n",
       "      <td>28.18</td>\n",
       "      <td>27.64</td>\n",
       "      <td>26.90</td>\n",
       "      <td>26.75</td>\n",
       "      <td>27.20</td>\n",
       "      <td>27.22</td>\n",
       "      <td>27.12</td>\n",
       "    </tr>\n",
       "    <tr>\n",
       "      <th>2020</th>\n",
       "      <td>27.15</td>\n",
       "      <td>27.12</td>\n",
       "      <td>27.76</td>\n",
       "      <td>28.18</td>\n",
       "      <td>27.66</td>\n",
       "      <td>27.39</td>\n",
       "      <td>26.99</td>\n",
       "      <td>26.26</td>\n",
       "      <td>25.89</td>\n",
       "      <td>25.46</td>\n",
       "      <td>25.28</td>\n",
       "      <td>25.44</td>\n",
       "    </tr>\n",
       "  </tbody>\n",
       "</table>\n",
       "<p>71 rows × 12 columns</p>\n",
       "</div>"
      ],
      "text/plain": [
       "         1      2      3      4      5      6      7      8      9      10  \\\n",
       "0                                                                            \n",
       "1950  24.55  25.06  25.87  26.28  26.18  26.46  26.29  25.88  25.74  25.69   \n",
       "1951  25.24  25.71  26.90  27.58  27.92  27.73  27.60  27.02  27.23  27.20   \n",
       "1952  26.67  26.74  27.17  27.80  27.79  27.18  26.53  26.30  26.36  26.26   \n",
       "1953  26.74  27.00  27.57  28.04  28.28  28.12  27.43  26.94  27.01  26.87   \n",
       "1954  26.98  27.03  26.90  26.64  27.12  26.80  26.11  25.43  25.12  25.23   \n",
       "...     ...    ...    ...    ...    ...    ...    ...    ...    ...    ...   \n",
       "2016  29.11  29.01  28.90  28.72  28.23  27.69  26.82  26.28  26.14  25.98   \n",
       "2017  26.12  26.67  27.32  28.03  28.30  28.06  27.54  26.70  26.29  26.15   \n",
       "2018  25.57  25.97  26.48  27.31  27.73  27.77  27.42  26.94  27.19  27.62   \n",
       "2019  27.19  27.46  28.09  28.44  28.48  28.18  27.64  26.90  26.75  27.20   \n",
       "2020  27.15  27.12  27.76  28.18  27.66  27.39  26.99  26.26  25.89  25.46   \n",
       "\n",
       "         11     12  \n",
       "0                   \n",
       "1950  25.47  25.29  \n",
       "1951  27.25  26.91  \n",
       "1952  25.92  26.21  \n",
       "1953  26.88  27.00  \n",
       "1954  25.57  25.26  \n",
       "...     ...    ...  \n",
       "2016  25.94  26.10  \n",
       "2017  25.74  25.62  \n",
       "2018  27.61  27.49  \n",
       "2019  27.22  27.12  \n",
       "2020  25.28  25.44  \n",
       "\n",
       "[71 rows x 12 columns]"
      ]
     },
     "execution_count": 42,
     "metadata": {},
     "output_type": "execute_result"
    }
   ],
   "source": [
    "df"
   ]
  },
  {
   "cell_type": "markdown",
   "id": "concerned-character",
   "metadata": {},
   "source": [
    "I want the index to have only the year, so that I can filter by year. First, the index column name is renamed to `Year`, then it is converted to a datetime object, which gets the format \"Year-month-day\". Since I want only the year, I select only the year object."
   ]
  },
  {
   "cell_type": "code",
   "execution_count": 43,
   "id": "sudden-publicity",
   "metadata": {},
   "outputs": [
    {
     "name": "stderr",
     "output_type": "stream",
     "text": [
      "/home/icrisologo/.conda/envs/pyart/lib/python3.7/site-packages/ipykernel/ipkernel.py:287: DeprecationWarning: `should_run_async` will not call `transform_cell` automatically in the future. Please pass the result to `transformed_cell` argument and any exception that happen during thetransform in `preprocessing_exc_tuple` in IPython 7.17 and above.\n",
      "  and should_run_async(code)\n"
     ]
    }
   ],
   "source": [
    "df.index = df.index.rename('Year')\n",
    "# Converting the index as date\n",
    "df.index = pd.to_datetime(df.index, format='%Y-%m-%d').year"
   ]
  },
  {
   "cell_type": "markdown",
   "id": "cosmetic-refund",
   "metadata": {},
   "source": [
    "Now I can select only years from 1996 onwards."
   ]
  },
  {
   "cell_type": "code",
   "execution_count": 44,
   "id": "adjacent-faith",
   "metadata": {},
   "outputs": [
    {
     "name": "stderr",
     "output_type": "stream",
     "text": [
      "/home/icrisologo/.conda/envs/pyart/lib/python3.7/site-packages/ipykernel/ipkernel.py:287: DeprecationWarning: `should_run_async` will not call `transform_cell` automatically in the future. Please pass the result to `transformed_cell` argument and any exception that happen during thetransform in `preprocessing_exc_tuple` in IPython 7.17 and above.\n",
      "  and should_run_async(code)\n"
     ]
    }
   ],
   "source": [
    "df = df.loc[df.index>1995]"
   ]
  },
  {
   "cell_type": "markdown",
   "id": "sound-valentine",
   "metadata": {},
   "source": [
    "For easier filtering, I also renamed the columns as the month number in string format."
   ]
  },
  {
   "cell_type": "code",
   "execution_count": 45,
   "id": "organized-rainbow",
   "metadata": {},
   "outputs": [
    {
     "name": "stderr",
     "output_type": "stream",
     "text": [
      "/home/icrisologo/.conda/envs/pyart/lib/python3.7/site-packages/ipykernel/ipkernel.py:287: DeprecationWarning: `should_run_async` will not call `transform_cell` automatically in the future. Please pass the result to `transformed_cell` argument and any exception that happen during thetransform in `preprocessing_exc_tuple` in IPython 7.17 and above.\n",
      "  and should_run_async(code)\n"
     ]
    }
   ],
   "source": [
    "df.columns = ['1', '2','3','4','5','6','7','8','9','10','11','12']"
   ]
  },
  {
   "cell_type": "markdown",
   "id": "stunning-typing",
   "metadata": {},
   "source": [
    "#### Re-arranging by California wet season\n",
    "\n",
    "Because the wet season of California is from October 1 to April 1 of the following year, it would be helpful to rearrange the dataframe such that each row is one wet season. The wet season is designated by the calendar year in which it ends, so that October 1995 to March 1996 is the 1996 wet season."
   ]
  },
  {
   "cell_type": "code",
   "execution_count": 46,
   "id": "contemporary-mouse",
   "metadata": {},
   "outputs": [
    {
     "name": "stderr",
     "output_type": "stream",
     "text": [
      "/home/icrisologo/.conda/envs/pyart/lib/python3.7/site-packages/ipykernel/ipkernel.py:287: DeprecationWarning: `should_run_async` will not call `transform_cell` automatically in the future. Please pass the result to `transformed_cell` argument and any exception that happen during thetransform in `preprocessing_exc_tuple` in IPython 7.17 and above.\n",
      "  and should_run_async(code)\n"
     ]
    }
   ],
   "source": [
    "df_wateryear = pd.DataFrame()#(columns=[10,11,12,1,2,3])\n",
    "for y in df.index:\n",
    "    wateryear_half1 = df.loc[(df.index==y)][['10','11','12']]\n",
    "    wateryear_half2 = df.loc[(df.index==y+1)][['1', '2','3','4','5','6','7','8','9']]\n",
    "    wateryear_half2.rename(index={y+1:y},inplace=True)\n",
    "    wateryear = pd.merge(wateryear_half1,wateryear_half2,how='outer',on='Year')\n",
    "    df_wateryear = pd.concat([df_wateryear,wateryear])"
   ]
  },
  {
   "cell_type": "markdown",
   "id": "hungarian-stand",
   "metadata": {},
   "source": [
    "Let's have a preview."
   ]
  },
  {
   "cell_type": "code",
   "execution_count": 47,
   "id": "surrounded-season",
   "metadata": {},
   "outputs": [
    {
     "name": "stderr",
     "output_type": "stream",
     "text": [
      "/home/icrisologo/.conda/envs/pyart/lib/python3.7/site-packages/ipykernel/ipkernel.py:287: DeprecationWarning: `should_run_async` will not call `transform_cell` automatically in the future. Please pass the result to `transformed_cell` argument and any exception that happen during thetransform in `preprocessing_exc_tuple` in IPython 7.17 and above.\n",
      "  and should_run_async(code)\n"
     ]
    },
    {
     "data": {
      "text/html": [
       "<div>\n",
       "<style scoped>\n",
       "    .dataframe tbody tr th:only-of-type {\n",
       "        vertical-align: middle;\n",
       "    }\n",
       "\n",
       "    .dataframe tbody tr th {\n",
       "        vertical-align: top;\n",
       "    }\n",
       "\n",
       "    .dataframe thead th {\n",
       "        text-align: right;\n",
       "    }\n",
       "</style>\n",
       "<table border=\"1\" class=\"dataframe\">\n",
       "  <thead>\n",
       "    <tr style=\"text-align: right;\">\n",
       "      <th></th>\n",
       "      <th>10</th>\n",
       "      <th>11</th>\n",
       "      <th>12</th>\n",
       "      <th>1</th>\n",
       "      <th>2</th>\n",
       "      <th>3</th>\n",
       "      <th>4</th>\n",
       "      <th>5</th>\n",
       "      <th>6</th>\n",
       "      <th>7</th>\n",
       "      <th>8</th>\n",
       "      <th>9</th>\n",
       "    </tr>\n",
       "    <tr>\n",
       "      <th>Year</th>\n",
       "      <th></th>\n",
       "      <th></th>\n",
       "      <th></th>\n",
       "      <th></th>\n",
       "      <th></th>\n",
       "      <th></th>\n",
       "      <th></th>\n",
       "      <th></th>\n",
       "      <th></th>\n",
       "      <th></th>\n",
       "      <th></th>\n",
       "      <th></th>\n",
       "    </tr>\n",
       "  </thead>\n",
       "  <tbody>\n",
       "    <tr>\n",
       "      <th>1996</th>\n",
       "      <td>26.27</td>\n",
       "      <td>26.29</td>\n",
       "      <td>25.95</td>\n",
       "      <td>26.01</td>\n",
       "      <td>26.38</td>\n",
       "      <td>27.04</td>\n",
       "      <td>27.98</td>\n",
       "      <td>28.58</td>\n",
       "      <td>28.82</td>\n",
       "      <td>28.86</td>\n",
       "      <td>28.75</td>\n",
       "      <td>28.85</td>\n",
       "    </tr>\n",
       "    <tr>\n",
       "      <th>1997</th>\n",
       "      <td>29.08</td>\n",
       "      <td>29.12</td>\n",
       "      <td>28.89</td>\n",
       "      <td>28.93</td>\n",
       "      <td>28.78</td>\n",
       "      <td>28.62</td>\n",
       "      <td>28.60</td>\n",
       "      <td>28.51</td>\n",
       "      <td>27.34</td>\n",
       "      <td>26.30</td>\n",
       "      <td>25.57</td>\n",
       "      <td>25.46</td>\n",
       "    </tr>\n",
       "    <tr>\n",
       "      <th>1998</th>\n",
       "      <td>25.25</td>\n",
       "      <td>25.24</td>\n",
       "      <td>24.91</td>\n",
       "      <td>24.86</td>\n",
       "      <td>25.43</td>\n",
       "      <td>26.33</td>\n",
       "      <td>26.70</td>\n",
       "      <td>26.79</td>\n",
       "      <td>26.53</td>\n",
       "      <td>26.13</td>\n",
       "      <td>25.63</td>\n",
       "      <td>25.63</td>\n",
       "    </tr>\n",
       "    <tr>\n",
       "      <th>1999</th>\n",
       "      <td>25.48</td>\n",
       "      <td>25.12</td>\n",
       "      <td>24.86</td>\n",
       "      <td>24.78</td>\n",
       "      <td>25.21</td>\n",
       "      <td>26.30</td>\n",
       "      <td>26.95</td>\n",
       "      <td>27.07</td>\n",
       "      <td>26.94</td>\n",
       "      <td>26.63</td>\n",
       "      <td>26.37</td>\n",
       "      <td>26.20</td>\n",
       "    </tr>\n",
       "    <tr>\n",
       "      <th>2000</th>\n",
       "      <td>26.02</td>\n",
       "      <td>25.92</td>\n",
       "      <td>25.68</td>\n",
       "      <td>25.81</td>\n",
       "      <td>26.12</td>\n",
       "      <td>26.80</td>\n",
       "      <td>27.33</td>\n",
       "      <td>27.60</td>\n",
       "      <td>27.54</td>\n",
       "      <td>27.25</td>\n",
       "      <td>26.80</td>\n",
       "      <td>26.52</td>\n",
       "    </tr>\n",
       "  </tbody>\n",
       "</table>\n",
       "</div>"
      ],
      "text/plain": [
       "         10     11     12      1      2      3      4      5      6      7  \\\n",
       "Year                                                                         \n",
       "1996  26.27  26.29  25.95  26.01  26.38  27.04  27.98  28.58  28.82  28.86   \n",
       "1997  29.08  29.12  28.89  28.93  28.78  28.62  28.60  28.51  27.34  26.30   \n",
       "1998  25.25  25.24  24.91  24.86  25.43  26.33  26.70  26.79  26.53  26.13   \n",
       "1999  25.48  25.12  24.86  24.78  25.21  26.30  26.95  27.07  26.94  26.63   \n",
       "2000  26.02  25.92  25.68  25.81  26.12  26.80  27.33  27.60  27.54  27.25   \n",
       "\n",
       "          8      9  \n",
       "Year                \n",
       "1996  28.75  28.85  \n",
       "1997  25.57  25.46  \n",
       "1998  25.63  25.63  \n",
       "1999  26.37  26.20  \n",
       "2000  26.80  26.52  "
      ]
     },
     "execution_count": 47,
     "metadata": {},
     "output_type": "execute_result"
    }
   ],
   "source": [
    "df_wateryear.head()"
   ]
  },
  {
   "cell_type": "code",
   "execution_count": 48,
   "id": "stock-sodium",
   "metadata": {},
   "outputs": [
    {
     "name": "stderr",
     "output_type": "stream",
     "text": [
      "/home/icrisologo/.conda/envs/pyart/lib/python3.7/site-packages/ipykernel/ipkernel.py:287: DeprecationWarning: `should_run_async` will not call `transform_cell` automatically in the future. Please pass the result to `transformed_cell` argument and any exception that happen during thetransform in `preprocessing_exc_tuple` in IPython 7.17 and above.\n",
      "  and should_run_async(code)\n"
     ]
    }
   ],
   "source": [
    "df_wateryear['Year'] = df_wateryear.index"
   ]
  },
  {
   "cell_type": "code",
   "execution_count": 49,
   "id": "typical-dinner",
   "metadata": {},
   "outputs": [
    {
     "name": "stderr",
     "output_type": "stream",
     "text": [
      "/home/icrisologo/.conda/envs/pyart/lib/python3.7/site-packages/ipykernel/ipkernel.py:287: DeprecationWarning: `should_run_async` will not call `transform_cell` automatically in the future. Please pass the result to `transformed_cell` argument and any exception that happen during thetransform in `preprocessing_exc_tuple` in IPython 7.17 and above.\n",
      "  and should_run_async(code)\n"
     ]
    },
    {
     "data": {
      "text/html": [
       "<div>\n",
       "<style scoped>\n",
       "    .dataframe tbody tr th:only-of-type {\n",
       "        vertical-align: middle;\n",
       "    }\n",
       "\n",
       "    .dataframe tbody tr th {\n",
       "        vertical-align: top;\n",
       "    }\n",
       "\n",
       "    .dataframe thead th {\n",
       "        text-align: right;\n",
       "    }\n",
       "</style>\n",
       "<table border=\"1\" class=\"dataframe\">\n",
       "  <thead>\n",
       "    <tr style=\"text-align: right;\">\n",
       "      <th></th>\n",
       "      <th>10</th>\n",
       "      <th>11</th>\n",
       "      <th>12</th>\n",
       "      <th>1</th>\n",
       "      <th>2</th>\n",
       "      <th>3</th>\n",
       "      <th>4</th>\n",
       "      <th>5</th>\n",
       "      <th>6</th>\n",
       "      <th>7</th>\n",
       "      <th>8</th>\n",
       "      <th>9</th>\n",
       "      <th>Year</th>\n",
       "    </tr>\n",
       "    <tr>\n",
       "      <th>Year</th>\n",
       "      <th></th>\n",
       "      <th></th>\n",
       "      <th></th>\n",
       "      <th></th>\n",
       "      <th></th>\n",
       "      <th></th>\n",
       "      <th></th>\n",
       "      <th></th>\n",
       "      <th></th>\n",
       "      <th></th>\n",
       "      <th></th>\n",
       "      <th></th>\n",
       "      <th></th>\n",
       "    </tr>\n",
       "  </thead>\n",
       "  <tbody>\n",
       "    <tr>\n",
       "      <th>1996</th>\n",
       "      <td>26.27</td>\n",
       "      <td>26.29</td>\n",
       "      <td>25.95</td>\n",
       "      <td>26.01</td>\n",
       "      <td>26.38</td>\n",
       "      <td>27.04</td>\n",
       "      <td>27.98</td>\n",
       "      <td>28.58</td>\n",
       "      <td>28.82</td>\n",
       "      <td>28.86</td>\n",
       "      <td>28.75</td>\n",
       "      <td>28.85</td>\n",
       "      <td>1996</td>\n",
       "    </tr>\n",
       "    <tr>\n",
       "      <th>1997</th>\n",
       "      <td>29.08</td>\n",
       "      <td>29.12</td>\n",
       "      <td>28.89</td>\n",
       "      <td>28.93</td>\n",
       "      <td>28.78</td>\n",
       "      <td>28.62</td>\n",
       "      <td>28.60</td>\n",
       "      <td>28.51</td>\n",
       "      <td>27.34</td>\n",
       "      <td>26.30</td>\n",
       "      <td>25.57</td>\n",
       "      <td>25.46</td>\n",
       "      <td>1997</td>\n",
       "    </tr>\n",
       "    <tr>\n",
       "      <th>1998</th>\n",
       "      <td>25.25</td>\n",
       "      <td>25.24</td>\n",
       "      <td>24.91</td>\n",
       "      <td>24.86</td>\n",
       "      <td>25.43</td>\n",
       "      <td>26.33</td>\n",
       "      <td>26.70</td>\n",
       "      <td>26.79</td>\n",
       "      <td>26.53</td>\n",
       "      <td>26.13</td>\n",
       "      <td>25.63</td>\n",
       "      <td>25.63</td>\n",
       "      <td>1998</td>\n",
       "    </tr>\n",
       "    <tr>\n",
       "      <th>1999</th>\n",
       "      <td>25.48</td>\n",
       "      <td>25.12</td>\n",
       "      <td>24.86</td>\n",
       "      <td>24.78</td>\n",
       "      <td>25.21</td>\n",
       "      <td>26.30</td>\n",
       "      <td>26.95</td>\n",
       "      <td>27.07</td>\n",
       "      <td>26.94</td>\n",
       "      <td>26.63</td>\n",
       "      <td>26.37</td>\n",
       "      <td>26.20</td>\n",
       "      <td>1999</td>\n",
       "    </tr>\n",
       "    <tr>\n",
       "      <th>2000</th>\n",
       "      <td>26.02</td>\n",
       "      <td>25.92</td>\n",
       "      <td>25.68</td>\n",
       "      <td>25.81</td>\n",
       "      <td>26.12</td>\n",
       "      <td>26.80</td>\n",
       "      <td>27.33</td>\n",
       "      <td>27.60</td>\n",
       "      <td>27.54</td>\n",
       "      <td>27.25</td>\n",
       "      <td>26.80</td>\n",
       "      <td>26.52</td>\n",
       "      <td>2000</td>\n",
       "    </tr>\n",
       "  </tbody>\n",
       "</table>\n",
       "</div>"
      ],
      "text/plain": [
       "         10     11     12      1      2      3      4      5      6      7  \\\n",
       "Year                                                                         \n",
       "1996  26.27  26.29  25.95  26.01  26.38  27.04  27.98  28.58  28.82  28.86   \n",
       "1997  29.08  29.12  28.89  28.93  28.78  28.62  28.60  28.51  27.34  26.30   \n",
       "1998  25.25  25.24  24.91  24.86  25.43  26.33  26.70  26.79  26.53  26.13   \n",
       "1999  25.48  25.12  24.86  24.78  25.21  26.30  26.95  27.07  26.94  26.63   \n",
       "2000  26.02  25.92  25.68  25.81  26.12  26.80  27.33  27.60  27.54  27.25   \n",
       "\n",
       "          8      9  Year  \n",
       "Year                      \n",
       "1996  28.75  28.85  1996  \n",
       "1997  25.57  25.46  1997  \n",
       "1998  25.63  25.63  1998  \n",
       "1999  26.37  26.20  1999  \n",
       "2000  26.80  26.52  2000  "
      ]
     },
     "execution_count": 49,
     "metadata": {},
     "output_type": "execute_result"
    }
   ],
   "source": [
    "df_wateryear.head()"
   ]
  },
  {
   "cell_type": "markdown",
   "id": "democratic-harvest",
   "metadata": {},
   "source": [
    "#### Trend over the years\n",
    "\n",
    "Just"
   ]
  },
  {
   "cell_type": "code",
   "execution_count": 51,
   "id": "selected-moldova",
   "metadata": {},
   "outputs": [
    {
     "name": "stderr",
     "output_type": "stream",
     "text": [
      "/home/icrisologo/.conda/envs/pyart/lib/python3.7/site-packages/ipykernel/ipkernel.py:287: DeprecationWarning: `should_run_async` will not call `transform_cell` automatically in the future. Please pass the result to `transformed_cell` argument and any exception that happen during thetransform in `preprocessing_exc_tuple` in IPython 7.17 and above.\n",
      "  and should_run_async(code)\n"
     ]
    }
   ],
   "source": [
    "df_ = df_wateryear.melt(id_vars='Year', var_name='Month', value_name='ENSO3.4_anomaly')"
   ]
  },
  {
   "cell_type": "code",
   "execution_count": 52,
   "id": "front-mailman",
   "metadata": {},
   "outputs": [
    {
     "name": "stderr",
     "output_type": "stream",
     "text": [
      "/home/icrisologo/.conda/envs/pyart/lib/python3.7/site-packages/ipykernel/ipkernel.py:287: DeprecationWarning: `should_run_async` will not call `transform_cell` automatically in the future. Please pass the result to `transformed_cell` argument and any exception that happen during thetransform in `preprocessing_exc_tuple` in IPython 7.17 and above.\n",
      "  and should_run_async(code)\n"
     ]
    }
   ],
   "source": [
    "df_['Month'] = df_['Month'].astype(float)\n",
    "df_['ENSO3.4_anomaly'] = df_['ENSO3.4_anomaly'].astype(float)"
   ]
  },
  {
   "cell_type": "code",
   "execution_count": 53,
   "id": "veterinary-sheet",
   "metadata": {},
   "outputs": [
    {
     "name": "stderr",
     "output_type": "stream",
     "text": [
      "/home/icrisologo/.conda/envs/pyart/lib/python3.7/site-packages/ipykernel/ipkernel.py:287: DeprecationWarning: `should_run_async` will not call `transform_cell` automatically in the future. Please pass the result to `transformed_cell` argument and any exception that happen during thetransform in `preprocessing_exc_tuple` in IPython 7.17 and above.\n",
      "  and should_run_async(code)\n"
     ]
    },
    {
     "data": {
      "image/png": "[encoded data removed]",
      "text/plain": [
       "<Figure size 864x288 with 1 Axes>"
      ]
     },
     "metadata": {
      "needs_background": "light"
     },
     "output_type": "display_data"
    }
   ],
   "source": [
    "fig, ax = pyplot.subplots(figsize =(12, 4)) \n",
    "ax = sns.boxplot(x=\"Year\", y=\"ENSO3.4_anomaly\", \n",
    "                 data=df_, linewidth=1)"
   ]
  },
  {
   "cell_type": "markdown",
   "id": "medium-villa",
   "metadata": {},
   "source": [
    "#### Export dataframe\n",
    "\n",
    "Save the dataframe as a csv file so it can be plotted with other dataframes in a different notebook."
   ]
  },
  {
   "cell_type": "code",
   "execution_count": 54,
   "id": "occasional-saying",
   "metadata": {},
   "outputs": [
    {
     "name": "stderr",
     "output_type": "stream",
     "text": [
      "/home/icrisologo/.conda/envs/pyart/lib/python3.7/site-packages/ipykernel/ipkernel.py:287: DeprecationWarning: `should_run_async` will not call `transform_cell` automatically in the future. Please pass the result to `transformed_cell` argument and any exception that happen during thetransform in `preprocessing_exc_tuple` in IPython 7.17 and above.\n",
      "  and should_run_async(code)\n"
     ]
    }
   ],
   "source": [
    "df_.to_csv(\"enso34_anomaly.csv\")"
   ]
  },
  {
   "cell_type": "code",
   "execution_count": null,
   "id": "growing-sampling",
   "metadata": {},
   "outputs": [],
   "source": []
  }
 ],
 "metadata": {
  "kernelspec": {
   "display_name": "Python [conda env:.conda-pyart] *",
   "language": "python",
   "name": "conda-env-.conda-pyart-py"
  },
  "language_info": {
   "codemirror_mode": {
    "name": "ipython",
    "version": 3
   },
   "file_extension": ".py",
   "mimetype": "text/x-python",
   "name": "python",
   "nbconvert_exporter": "python",
   "pygments_lexer": "ipython3",
   "version": "3.7.9"
  }
 },
 "nbformat": 4,
 "nbformat_minor": 5
}
