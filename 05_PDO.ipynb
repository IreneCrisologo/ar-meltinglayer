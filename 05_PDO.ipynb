{
 "cells": [
  {
   "cell_type": "markdown",
   "id": "genuine-juvenile",
   "metadata": {},
   "source": [
    "# Pacific Decadal Oscillation\n",
    "\n",
    "In this notebook, I used the Pacific Decadal Oscillation SST Anomaly from https://psl.noaa.gov/gcos_wgsp/Timeseries/PDO/ to compare to the melting layer time series."
   ]
  },
  {
   "cell_type": "markdown",
   "id": "external-junior",
   "metadata": {},
   "source": [
    "#### Import modules"
   ]
  },
  {
   "cell_type": "code",
   "execution_count": 18,
   "id": "explicit-practice",
   "metadata": {},
   "outputs": [
    {
     "name": "stderr",
     "output_type": "stream",
     "text": [
      "/home/icrisologo/.conda/envs/pyart/lib/python3.7/site-packages/ipykernel/ipkernel.py:287: DeprecationWarning: `should_run_async` will not call `transform_cell` automatically in the future. Please pass the result to `transformed_cell` argument and any exception that happen during thetransform in `preprocessing_exc_tuple` in IPython 7.17 and above.\n",
      "  and should_run_async(code)\n"
     ]
    },
    {
     "name": "stdout",
     "output_type": "stream",
     "text": [
      "Populating the interactive namespace from numpy and matplotlib\n"
     ]
    }
   ],
   "source": [
    "%pylab inline\n",
    "\n",
    "import pyart\n",
    "import pandas as pd\n",
    "import numpy as np\n",
    "import seaborn as sns\n",
    "\n",
    "import os\n",
    "\n",
    "import datetime as dt\n",
    "import pytz\n",
    "\n",
    "import sys, os"
   ]
  },
  {
   "cell_type": "markdown",
   "id": "accurate-groove",
   "metadata": {},
   "source": [
    "#### Load data\n",
    "\n",
    "I downloaded the data [here](https://psl.noaa.gov/gcos_wgsp/Timeseries/Data/pdo.long.data) _(Last accessed: 04/27/2021)_ and saved it to my local directory. There is probably a way to read the data directly from the site into a pandas dataframe, but this is how I did it for now."
   ]
  },
  {
   "cell_type": "code",
   "execution_count": 3,
   "id": "italian-shaft",
   "metadata": {},
   "outputs": [
    {
     "name": "stderr",
     "output_type": "stream",
     "text": [
      "/home/icrisologo/.conda/envs/pyart/lib/python3.7/site-packages/ipykernel/ipkernel.py:287: DeprecationWarning: `should_run_async` will not call `transform_cell` automatically in the future. Please pass the result to `transformed_cell` argument and any exception that happen during thetransform in `preprocessing_exc_tuple` in IPython 7.17 and above.\n",
      "  and should_run_async(code)\n"
     ]
    }
   ],
   "source": [
    "# file path\n",
    "pdo_datfile = '/home/icrisologo/Data/pdo.long.data'"
   ]
  },
  {
   "cell_type": "markdown",
   "id": "swiss-unknown",
   "metadata": {},
   "source": [
    "Because the data is in a fixed-width format, I used `pd.read_fwf` to read it, skipped reading the first row because it just says the start and end years. I set the index to the 0th column so that the index is the year.\n",
    "\n",
    "I also dropped the last 10 rows because they just contain other info."
   ]
  },
  {
   "cell_type": "code",
   "execution_count": 4,
   "id": "worthy-phase",
   "metadata": {},
   "outputs": [
    {
     "name": "stderr",
     "output_type": "stream",
     "text": [
      "/home/icrisologo/.conda/envs/pyart/lib/python3.7/site-packages/ipykernel/ipkernel.py:287: DeprecationWarning: `should_run_async` will not call `transform_cell` automatically in the future. Please pass the result to `transformed_cell` argument and any exception that happen during thetransform in `preprocessing_exc_tuple` in IPython 7.17 and above.\n",
      "  and should_run_async(code)\n"
     ]
    }
   ],
   "source": [
    "df = pd.read_fwf(pdo_datfile,sep='\\t',skiprows=(1),header=None,index_col=[0])\n",
    "df.drop(df.tail(10).index,inplace=True) # drop last 10 rows (other info)"
   ]
  },
  {
   "cell_type": "markdown",
   "id": "concerned-character",
   "metadata": {},
   "source": [
    "I want the index to have only the year, so that I can filter by year. First, the index column name is renamed to `Year`, then it is converted to a datetime object, which gets the format \"Year-month-day\". Since I want only the year, I select only the year object."
   ]
  },
  {
   "cell_type": "code",
   "execution_count": 5,
   "id": "sudden-publicity",
   "metadata": {},
   "outputs": [
    {
     "name": "stderr",
     "output_type": "stream",
     "text": [
      "/home/icrisologo/.conda/envs/pyart/lib/python3.7/site-packages/ipykernel/ipkernel.py:287: DeprecationWarning: `should_run_async` will not call `transform_cell` automatically in the future. Please pass the result to `transformed_cell` argument and any exception that happen during thetransform in `preprocessing_exc_tuple` in IPython 7.17 and above.\n",
      "  and should_run_async(code)\n"
     ]
    }
   ],
   "source": [
    "df.index = df.index.rename('Year')\n",
    "# Converting the index as date\n",
    "df.index = pd.to_datetime(df.index, format='%Y-%m-%d').year"
   ]
  },
  {
   "cell_type": "markdown",
   "id": "cosmetic-refund",
   "metadata": {},
   "source": [
    "Now I can select only years from 1996 onwards."
   ]
  },
  {
   "cell_type": "code",
   "execution_count": 6,
   "id": "adjacent-faith",
   "metadata": {},
   "outputs": [
    {
     "name": "stderr",
     "output_type": "stream",
     "text": [
      "/home/icrisologo/.conda/envs/pyart/lib/python3.7/site-packages/ipykernel/ipkernel.py:287: DeprecationWarning: `should_run_async` will not call `transform_cell` automatically in the future. Please pass the result to `transformed_cell` argument and any exception that happen during thetransform in `preprocessing_exc_tuple` in IPython 7.17 and above.\n",
      "  and should_run_async(code)\n"
     ]
    }
   ],
   "source": [
    "df = df.loc[df.index>1995]"
   ]
  },
  {
   "cell_type": "markdown",
   "id": "sound-valentine",
   "metadata": {},
   "source": [
    "For easier filtering, I also renamed the columns as the month number in string format."
   ]
  },
  {
   "cell_type": "code",
   "execution_count": 7,
   "id": "organized-rainbow",
   "metadata": {},
   "outputs": [
    {
     "name": "stderr",
     "output_type": "stream",
     "text": [
      "/home/icrisologo/.conda/envs/pyart/lib/python3.7/site-packages/ipykernel/ipkernel.py:287: DeprecationWarning: `should_run_async` will not call `transform_cell` automatically in the future. Please pass the result to `transformed_cell` argument and any exception that happen during thetransform in `preprocessing_exc_tuple` in IPython 7.17 and above.\n",
      "  and should_run_async(code)\n"
     ]
    }
   ],
   "source": [
    "df.columns = ['1', '2','3','4','5','6','7','8','9','10','11','12']"
   ]
  },
  {
   "cell_type": "markdown",
   "id": "stunning-typing",
   "metadata": {},
   "source": [
    "#### Re-arranging by California wet season\n",
    "\n",
    "Because the wet season of California is from October 1 to April 1 of the following year, it would be helpful to rearrange the dataframe such that each row is one wet season. The wet season is designated by the calendar year in which it ends, so that October 1995 to March 1996 is the 1996 wet season."
   ]
  },
  {
   "cell_type": "code",
   "execution_count": 40,
   "id": "contemporary-mouse",
   "metadata": {},
   "outputs": [
    {
     "name": "stderr",
     "output_type": "stream",
     "text": [
      "/home/icrisologo/.conda/envs/pyart/lib/python3.7/site-packages/ipykernel/ipkernel.py:287: DeprecationWarning: `should_run_async` will not call `transform_cell` automatically in the future. Please pass the result to `transformed_cell` argument and any exception that happen during thetransform in `preprocessing_exc_tuple` in IPython 7.17 and above.\n",
      "  and should_run_async(code)\n"
     ]
    }
   ],
   "source": [
    "df_wateryear = pd.DataFrame()#(columns=[10,11,12,1,2,3])\n",
    "for y in df.index:\n",
    "    wateryear_half1 = df.loc[(df.index==y)][['10','11','12']]\n",
    "    wateryear_half2 = df.loc[(df.index==y+1)][['1', '2','3','4','5','6','7','8','9']]\n",
    "    wateryear_half2.rename(index={y+1:y},inplace=True)\n",
    "    wateryear = pd.merge(wateryear_half1,wateryear_half2,how='outer',on='Year')\n",
    "    df_wateryear = pd.concat([df_wateryear,wateryear])"
   ]
  },
  {
   "cell_type": "markdown",
   "id": "african-reform",
   "metadata": {},
   "source": [
    "Let's have a preview."
   ]
  },
  {
   "cell_type": "code",
   "execution_count": 41,
   "id": "surrounded-season",
   "metadata": {},
   "outputs": [
    {
     "name": "stderr",
     "output_type": "stream",
     "text": [
      "/home/icrisologo/.conda/envs/pyart/lib/python3.7/site-packages/ipykernel/ipkernel.py:287: DeprecationWarning: `should_run_async` will not call `transform_cell` automatically in the future. Please pass the result to `transformed_cell` argument and any exception that happen during thetransform in `preprocessing_exc_tuple` in IPython 7.17 and above.\n",
      "  and should_run_async(code)\n"
     ]
    },
    {
     "data": {
      "text/html": [
       "<div>\n",
       "<style scoped>\n",
       "    .dataframe tbody tr th:only-of-type {\n",
       "        vertical-align: middle;\n",
       "    }\n",
       "\n",
       "    .dataframe tbody tr th {\n",
       "        vertical-align: top;\n",
       "    }\n",
       "\n",
       "    .dataframe thead th {\n",
       "        text-align: right;\n",
       "    }\n",
       "</style>\n",
       "<table border=\"1\" class=\"dataframe\">\n",
       "  <thead>\n",
       "    <tr style=\"text-align: right;\">\n",
       "      <th></th>\n",
       "      <th>10</th>\n",
       "      <th>11</th>\n",
       "      <th>12</th>\n",
       "      <th>1</th>\n",
       "      <th>2</th>\n",
       "      <th>3</th>\n",
       "      <th>4</th>\n",
       "      <th>5</th>\n",
       "      <th>6</th>\n",
       "      <th>7</th>\n",
       "      <th>8</th>\n",
       "      <th>9</th>\n",
       "    </tr>\n",
       "    <tr>\n",
       "      <th>Year</th>\n",
       "      <th></th>\n",
       "      <th></th>\n",
       "      <th></th>\n",
       "      <th></th>\n",
       "      <th></th>\n",
       "      <th></th>\n",
       "      <th></th>\n",
       "      <th></th>\n",
       "      <th></th>\n",
       "      <th></th>\n",
       "      <th></th>\n",
       "      <th></th>\n",
       "    </tr>\n",
       "  </thead>\n",
       "  <tbody>\n",
       "    <tr>\n",
       "      <th>1996</th>\n",
       "      <td>-0.33</td>\n",
       "      <td>0.09</td>\n",
       "      <td>-0.03</td>\n",
       "      <td>0.23</td>\n",
       "      <td>0.28</td>\n",
       "      <td>0.65</td>\n",
       "      <td>1.05</td>\n",
       "      <td>1.83</td>\n",
       "      <td>2.76</td>\n",
       "      <td>2.35</td>\n",
       "      <td>2.79</td>\n",
       "      <td>2.19</td>\n",
       "    </tr>\n",
       "    <tr>\n",
       "      <th>1997</th>\n",
       "      <td>1.61</td>\n",
       "      <td>1.12</td>\n",
       "      <td>0.67</td>\n",
       "      <td>0.83</td>\n",
       "      <td>1.56</td>\n",
       "      <td>2.01</td>\n",
       "      <td>1.27</td>\n",
       "      <td>0.70</td>\n",
       "      <td>0.40</td>\n",
       "      <td>-0.04</td>\n",
       "      <td>-0.22</td>\n",
       "      <td>-1.21</td>\n",
       "    </tr>\n",
       "    <tr>\n",
       "      <th>1998</th>\n",
       "      <td>-1.39</td>\n",
       "      <td>-0.52</td>\n",
       "      <td>-0.44</td>\n",
       "      <td>-0.32</td>\n",
       "      <td>-0.66</td>\n",
       "      <td>-0.33</td>\n",
       "      <td>-0.41</td>\n",
       "      <td>-0.68</td>\n",
       "      <td>-1.30</td>\n",
       "      <td>-0.66</td>\n",
       "      <td>-0.96</td>\n",
       "      <td>-1.53</td>\n",
       "    </tr>\n",
       "    <tr>\n",
       "      <th>1999</th>\n",
       "      <td>-2.23</td>\n",
       "      <td>-2.05</td>\n",
       "      <td>-1.63</td>\n",
       "      <td>-2.00</td>\n",
       "      <td>-0.83</td>\n",
       "      <td>0.29</td>\n",
       "      <td>0.35</td>\n",
       "      <td>-0.05</td>\n",
       "      <td>-0.44</td>\n",
       "      <td>-0.66</td>\n",
       "      <td>-1.19</td>\n",
       "      <td>-1.24</td>\n",
       "    </tr>\n",
       "    <tr>\n",
       "      <th>2000</th>\n",
       "      <td>-1.30</td>\n",
       "      <td>-0.53</td>\n",
       "      <td>0.52</td>\n",
       "      <td>.60</td>\n",
       "      <td>.29</td>\n",
       "      <td>0.45</td>\n",
       "      <td>-0.31</td>\n",
       "      <td>-0.30</td>\n",
       "      <td>-0.47</td>\n",
       "      <td>-1.31</td>\n",
       "      <td>-0.77</td>\n",
       "      <td>-1.37</td>\n",
       "    </tr>\n",
       "  </tbody>\n",
       "</table>\n",
       "</div>"
      ],
      "text/plain": [
       "         10    11    12      1      2      3      4      5      6      7  \\\n",
       "Year                                                                       \n",
       "1996  -0.33  0.09 -0.03   0.23   0.28   0.65   1.05   1.83   2.76   2.35   \n",
       "1997   1.61  1.12  0.67   0.83   1.56   2.01   1.27   0.70   0.40  -0.04   \n",
       "1998  -1.39 -0.52 -0.44  -0.32  -0.66  -0.33  -0.41  -0.68  -1.30  -0.66   \n",
       "1999  -2.23 -2.05 -1.63  -2.00  -0.83   0.29   0.35  -0.05  -0.44  -0.66   \n",
       "2000  -1.30 -0.53  0.52    .60    .29   0.45  -0.31  -0.30  -0.47  -1.31   \n",
       "\n",
       "          8      9  \n",
       "Year                \n",
       "1996   2.79   2.19  \n",
       "1997  -0.22  -1.21  \n",
       "1998  -0.96  -1.53  \n",
       "1999  -1.19  -1.24  \n",
       "2000  -0.77  -1.37  "
      ]
     },
     "execution_count": 41,
     "metadata": {},
     "output_type": "execute_result"
    }
   ],
   "source": [
    "df_wateryear.head()"
   ]
  },
  {
   "cell_type": "code",
   "execution_count": 42,
   "id": "enclosed-image",
   "metadata": {},
   "outputs": [
    {
     "name": "stderr",
     "output_type": "stream",
     "text": [
      "/home/icrisologo/.conda/envs/pyart/lib/python3.7/site-packages/ipykernel/ipkernel.py:287: DeprecationWarning: `should_run_async` will not call `transform_cell` automatically in the future. Please pass the result to `transformed_cell` argument and any exception that happen during thetransform in `preprocessing_exc_tuple` in IPython 7.17 and above.\n",
      "  and should_run_async(code)\n"
     ]
    }
   ],
   "source": [
    "df_wateryear['Year'] = df_wateryear.index"
   ]
  },
  {
   "cell_type": "code",
   "execution_count": 43,
   "id": "shared-nickel",
   "metadata": {},
   "outputs": [
    {
     "name": "stderr",
     "output_type": "stream",
     "text": [
      "/home/icrisologo/.conda/envs/pyart/lib/python3.7/site-packages/ipykernel/ipkernel.py:287: DeprecationWarning: `should_run_async` will not call `transform_cell` automatically in the future. Please pass the result to `transformed_cell` argument and any exception that happen during thetransform in `preprocessing_exc_tuple` in IPython 7.17 and above.\n",
      "  and should_run_async(code)\n"
     ]
    },
    {
     "data": {
      "text/html": [
       "<div>\n",
       "<style scoped>\n",
       "    .dataframe tbody tr th:only-of-type {\n",
       "        vertical-align: middle;\n",
       "    }\n",
       "\n",
       "    .dataframe tbody tr th {\n",
       "        vertical-align: top;\n",
       "    }\n",
       "\n",
       "    .dataframe thead th {\n",
       "        text-align: right;\n",
       "    }\n",
       "</style>\n",
       "<table border=\"1\" class=\"dataframe\">\n",
       "  <thead>\n",
       "    <tr style=\"text-align: right;\">\n",
       "      <th></th>\n",
       "      <th>10</th>\n",
       "      <th>11</th>\n",
       "      <th>12</th>\n",
       "      <th>1</th>\n",
       "      <th>2</th>\n",
       "      <th>3</th>\n",
       "      <th>4</th>\n",
       "      <th>5</th>\n",
       "      <th>6</th>\n",
       "      <th>7</th>\n",
       "      <th>8</th>\n",
       "      <th>9</th>\n",
       "      <th>Year</th>\n",
       "    </tr>\n",
       "    <tr>\n",
       "      <th>Year</th>\n",
       "      <th></th>\n",
       "      <th></th>\n",
       "      <th></th>\n",
       "      <th></th>\n",
       "      <th></th>\n",
       "      <th></th>\n",
       "      <th></th>\n",
       "      <th></th>\n",
       "      <th></th>\n",
       "      <th></th>\n",
       "      <th></th>\n",
       "      <th></th>\n",
       "      <th></th>\n",
       "    </tr>\n",
       "  </thead>\n",
       "  <tbody>\n",
       "    <tr>\n",
       "      <th>1996</th>\n",
       "      <td>-0.33</td>\n",
       "      <td>0.09</td>\n",
       "      <td>-0.03</td>\n",
       "      <td>0.23</td>\n",
       "      <td>0.28</td>\n",
       "      <td>0.65</td>\n",
       "      <td>1.05</td>\n",
       "      <td>1.83</td>\n",
       "      <td>2.76</td>\n",
       "      <td>2.35</td>\n",
       "      <td>2.79</td>\n",
       "      <td>2.19</td>\n",
       "      <td>1996</td>\n",
       "    </tr>\n",
       "    <tr>\n",
       "      <th>1997</th>\n",
       "      <td>1.61</td>\n",
       "      <td>1.12</td>\n",
       "      <td>0.67</td>\n",
       "      <td>0.83</td>\n",
       "      <td>1.56</td>\n",
       "      <td>2.01</td>\n",
       "      <td>1.27</td>\n",
       "      <td>0.70</td>\n",
       "      <td>0.40</td>\n",
       "      <td>-0.04</td>\n",
       "      <td>-0.22</td>\n",
       "      <td>-1.21</td>\n",
       "      <td>1997</td>\n",
       "    </tr>\n",
       "    <tr>\n",
       "      <th>1998</th>\n",
       "      <td>-1.39</td>\n",
       "      <td>-0.52</td>\n",
       "      <td>-0.44</td>\n",
       "      <td>-0.32</td>\n",
       "      <td>-0.66</td>\n",
       "      <td>-0.33</td>\n",
       "      <td>-0.41</td>\n",
       "      <td>-0.68</td>\n",
       "      <td>-1.30</td>\n",
       "      <td>-0.66</td>\n",
       "      <td>-0.96</td>\n",
       "      <td>-1.53</td>\n",
       "      <td>1998</td>\n",
       "    </tr>\n",
       "    <tr>\n",
       "      <th>1999</th>\n",
       "      <td>-2.23</td>\n",
       "      <td>-2.05</td>\n",
       "      <td>-1.63</td>\n",
       "      <td>-2.00</td>\n",
       "      <td>-0.83</td>\n",
       "      <td>0.29</td>\n",
       "      <td>0.35</td>\n",
       "      <td>-0.05</td>\n",
       "      <td>-0.44</td>\n",
       "      <td>-0.66</td>\n",
       "      <td>-1.19</td>\n",
       "      <td>-1.24</td>\n",
       "      <td>1999</td>\n",
       "    </tr>\n",
       "    <tr>\n",
       "      <th>2000</th>\n",
       "      <td>-1.30</td>\n",
       "      <td>-0.53</td>\n",
       "      <td>0.52</td>\n",
       "      <td>.60</td>\n",
       "      <td>.29</td>\n",
       "      <td>0.45</td>\n",
       "      <td>-0.31</td>\n",
       "      <td>-0.30</td>\n",
       "      <td>-0.47</td>\n",
       "      <td>-1.31</td>\n",
       "      <td>-0.77</td>\n",
       "      <td>-1.37</td>\n",
       "      <td>2000</td>\n",
       "    </tr>\n",
       "  </tbody>\n",
       "</table>\n",
       "</div>"
      ],
      "text/plain": [
       "         10    11    12      1      2      3      4      5      6      7  \\\n",
       "Year                                                                       \n",
       "1996  -0.33  0.09 -0.03   0.23   0.28   0.65   1.05   1.83   2.76   2.35   \n",
       "1997   1.61  1.12  0.67   0.83   1.56   2.01   1.27   0.70   0.40  -0.04   \n",
       "1998  -1.39 -0.52 -0.44  -0.32  -0.66  -0.33  -0.41  -0.68  -1.30  -0.66   \n",
       "1999  -2.23 -2.05 -1.63  -2.00  -0.83   0.29   0.35  -0.05  -0.44  -0.66   \n",
       "2000  -1.30 -0.53  0.52    .60    .29   0.45  -0.31  -0.30  -0.47  -1.31   \n",
       "\n",
       "          8      9  Year  \n",
       "Year                      \n",
       "1996   2.79   2.19  1996  \n",
       "1997  -0.22  -1.21  1997  \n",
       "1998  -0.96  -1.53  1998  \n",
       "1999  -1.19  -1.24  1999  \n",
       "2000  -0.77  -1.37  2000  "
      ]
     },
     "execution_count": 43,
     "metadata": {},
     "output_type": "execute_result"
    }
   ],
   "source": [
    "df_wateryear.head()"
   ]
  },
  {
   "cell_type": "markdown",
   "id": "devoted-stuff",
   "metadata": {},
   "source": [
    "#### Trend over the years\n",
    "\n",
    "I'm reshaping the dataframe so that it would be easier to plot. To reshape, I used `DataFrame.melt`, set the variable name as Month and the value name as PDO_anomaly."
   ]
  },
  {
   "cell_type": "code",
   "execution_count": 46,
   "id": "rising-elimination",
   "metadata": {},
   "outputs": [
    {
     "name": "stderr",
     "output_type": "stream",
     "text": [
      "/home/icrisologo/.conda/envs/pyart/lib/python3.7/site-packages/ipykernel/ipkernel.py:287: DeprecationWarning: `should_run_async` will not call `transform_cell` automatically in the future. Please pass the result to `transformed_cell` argument and any exception that happen during thetransform in `preprocessing_exc_tuple` in IPython 7.17 and above.\n",
      "  and should_run_async(code)\n"
     ]
    }
   ],
   "source": [
    "df_ = df_wateryear.melt(id_vars='Year', var_name='Month', value_name='PDO_anomaly')"
   ]
  },
  {
   "cell_type": "markdown",
   "id": "blank-seating",
   "metadata": {},
   "source": [
    "Converting the values to float because they were stored as string."
   ]
  },
  {
   "cell_type": "code",
   "execution_count": 47,
   "id": "fatty-musical",
   "metadata": {},
   "outputs": [
    {
     "name": "stderr",
     "output_type": "stream",
     "text": [
      "/home/icrisologo/.conda/envs/pyart/lib/python3.7/site-packages/ipykernel/ipkernel.py:287: DeprecationWarning: `should_run_async` will not call `transform_cell` automatically in the future. Please pass the result to `transformed_cell` argument and any exception that happen during thetransform in `preprocessing_exc_tuple` in IPython 7.17 and above.\n",
      "  and should_run_async(code)\n"
     ]
    }
   ],
   "source": [
    "df_['Month'] = df_['Month'].astype(float)\n",
    "df_['PDO_anomaly'] = df_['PDO_anomaly'].astype(float)"
   ]
  },
  {
   "cell_type": "markdown",
   "id": "alpine-basket",
   "metadata": {},
   "source": [
    "Plotting!"
   ]
  },
  {
   "cell_type": "code",
   "execution_count": 48,
   "id": "painted-robinson",
   "metadata": {},
   "outputs": [
    {
     "name": "stderr",
     "output_type": "stream",
     "text": [
      "/home/icrisologo/.conda/envs/pyart/lib/python3.7/site-packages/ipykernel/ipkernel.py:287: DeprecationWarning: `should_run_async` will not call `transform_cell` automatically in the future. Please pass the result to `transformed_cell` argument and any exception that happen during thetransform in `preprocessing_exc_tuple` in IPython 7.17 and above.\n",
      "  and should_run_async(code)\n"
     ]
    },
    {
     "data": {
      "image/png": "[encoded data removed]",
      "text/plain": [
       "<Figure size 864x288 with 1 Axes>"
      ]
     },
     "metadata": {
      "needs_background": "light"
     },
     "output_type": "display_data"
    }
   ],
   "source": [
    "fig, ax = pyplot.subplots(figsize =(12, 4)) \n",
    "ax = sns.boxplot(x=\"Year\", y=\"PDO_anomaly\", \n",
    "                 data=df_, linewidth=1)"
   ]
  },
  {
   "cell_type": "markdown",
   "id": "retired-melbourne",
   "metadata": {},
   "source": [
    "#### Export dataframe\n",
    "\n",
    "Save the dataframe as a csv file so it can be plotted with other dataframes in a different notebook."
   ]
  },
  {
   "cell_type": "code",
   "execution_count": 49,
   "id": "narrow-acoustic",
   "metadata": {},
   "outputs": [
    {
     "name": "stderr",
     "output_type": "stream",
     "text": [
      "/home/icrisologo/.conda/envs/pyart/lib/python3.7/site-packages/ipykernel/ipkernel.py:287: DeprecationWarning: `should_run_async` will not call `transform_cell` automatically in the future. Please pass the result to `transformed_cell` argument and any exception that happen during thetransform in `preprocessing_exc_tuple` in IPython 7.17 and above.\n",
      "  and should_run_async(code)\n"
     ]
    }
   ],
   "source": [
    "df_.to_csv(\"pdo_anomaly.csv\")"
   ]
  },
  {
   "cell_type": "code",
   "execution_count": null,
   "id": "colored-intellectual",
   "metadata": {},
   "outputs": [],
   "source": []
  }
 ],
 "metadata": {
  "kernelspec": {
   "display_name": "Python [conda env:.conda-pyart] *",
   "language": "python",
   "name": "conda-env-.conda-pyart-py"
  },
  "language_info": {
   "codemirror_mode": {
    "name": "ipython",
    "version": 3
   },
   "file_extension": ".py",
   "mimetype": "text/x-python",
   "name": "python",
   "nbconvert_exporter": "python",
   "pygments_lexer": "ipython3",
   "version": "3.7.9"
  }
 },
 "nbformat": 4,
 "nbformat_minor": 5
}
